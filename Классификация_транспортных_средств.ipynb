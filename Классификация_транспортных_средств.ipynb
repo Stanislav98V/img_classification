{
  "nbformat": 4,
  "nbformat_minor": 0,
  "metadata": {
    "colab": {
      "name": "Классификация транспортных средств",
      "provenance": [],
      "collapsed_sections": [
        "kztzYzIqcXwe",
        "e-tPV9FU7UB4"
      ]
    },
    "kernelspec": {
      "name": "python3",
      "display_name": "Python 3"
    },
    "language_info": {
      "name": "python"
    },
    "accelerator": "GPU"
  },
  "cells": [
    {
      "cell_type": "markdown",
      "metadata": {
        "id": "kztzYzIqcXwe"
      },
      "source": [
        "# **Результат**"
      ]
    },
    {
      "cell_type": "markdown",
      "metadata": {
        "id": "OHDjp3DBcXoV"
      },
      "source": [
        "Параметры модели - 997.611\n",
        "\n",
        "Эпох - 4\n",
        "\n",
        "Оптимизатор - Adam\n",
        "\n",
        "Loss функция - SparseCategoricalCrossentropy\n",
        "\n",
        "Аугментация - Х5\n",
        "\n",
        "train loss - 0.1432\n",
        "\n",
        "train accuracy - 0.9478 \n",
        "\n",
        "val loss - 0.573\n",
        "\n",
        "val accuracy - 0.833"
      ]
    },
    {
      "cell_type": "markdown",
      "metadata": {
        "id": "e-tPV9FU7UB4"
      },
      "source": [
        "# **Библиотеки**"
      ]
    },
    {
      "cell_type": "code",
      "metadata": {
        "id": "r8l7IQPrZ250",
        "colab": {
          "base_uri": "https://localhost:8080/"
        },
        "outputId": "6fbef517-f640-4bbf-8be3-296f4e4f5384"
      },
      "source": [
        "!pip install opencv-python==4.4.0.42"
      ],
      "execution_count": null,
      "outputs": [
        {
          "output_type": "stream",
          "text": [
            "Collecting opencv-python==4.4.0.42\n",
            "\u001b[?25l  Downloading https://files.pythonhosted.org/packages/fa/e3/7ed67a8f3116113a364671fb4142c446dd804c63f3d9df5c11168a1e4dbb/opencv_python-4.4.0.42-cp37-cp37m-manylinux2014_x86_64.whl (49.4MB)\n",
            "\u001b[K     |████████████████████████████████| 49.4MB 60kB/s \n",
            "\u001b[?25hRequirement already satisfied: numpy>=1.14.5 in /usr/local/lib/python3.7/dist-packages (from opencv-python==4.4.0.42) (1.19.5)\n",
            "\u001b[31mERROR: albumentations 0.1.12 has requirement imgaug<0.2.7,>=0.2.5, but you'll have imgaug 0.2.9 which is incompatible.\u001b[0m\n",
            "Installing collected packages: opencv-python\n",
            "  Found existing installation: opencv-python 4.1.2.30\n",
            "    Uninstalling opencv-python-4.1.2.30:\n",
            "      Successfully uninstalled opencv-python-4.1.2.30\n",
            "Successfully installed opencv-python-4.4.0.42\n"
          ],
          "name": "stdout"
        }
      ]
    },
    {
      "cell_type": "code",
      "metadata": {
        "id": "D3V2SXi6aXX3",
        "colab": {
          "base_uri": "https://localhost:8080/"
        },
        "outputId": "7fbc91e5-2362-4fe8-d266-a8d42f854612"
      },
      "source": [
        "from google.colab import drive\n",
        "import imgaug.augmenters as iaa\n",
        "import tarfile\n",
        "import matplotlib.pyplot as plt\n",
        "import cv2\n",
        "import numpy as np\n",
        "import os\n",
        "import PIL\n",
        "import PIL.Image\n",
        "import tensorflow as tf\n",
        "import tensorflow_datasets as tfds\n",
        "drive.mount('/content/drive')"
      ],
      "execution_count": null,
      "outputs": [
        {
          "output_type": "stream",
          "text": [
            "Mounted at /content/drive\n"
          ],
          "name": "stdout"
        }
      ]
    },
    {
      "cell_type": "markdown",
      "metadata": {
        "id": "479eXh5qntsP"
      },
      "source": [
        "Распаковываем файлы с google диска"
      ]
    },
    {
      "cell_type": "code",
      "metadata": {
        "id": "C7jvNk_JZWuy"
      },
      "source": [
        "tar = tarfile.open(\"drive/MyDrive/ds_TD.tar\")\n",
        "tar.extractall()\n",
        "tar.close()"
      ],
      "execution_count": null,
      "outputs": []
    },
    {
      "cell_type": "markdown",
      "metadata": {
        "id": "fSQOgJp17YsX"
      },
      "source": [
        "# **Нормировка и аугментация**"
      ]
    },
    {
      "cell_type": "markdown",
      "metadata": {
        "id": "gu9SD1Ivn_Gi"
      },
      "source": [
        "Аугментация (Х5).\n",
        "Отдельно для каждого изображения"
      ]
    },
    {
      "cell_type": "code",
      "metadata": {
        "id": "7l-IwzGpFT1o"
      },
      "source": [
        "def aug_images(img):\n",
        "    augs = []\n",
        "    img_s = []\n",
        "    augs.append(iaa.AverageBlur(k=5))  # Размыть изображение\n",
        "    augs.append(iaa.Fliplr(0.5))  # Отразить изображение\n",
        "    augs.append(iaa.Flipud(0.5))\n",
        "    augs.append(iaa.Sequential([\n",
        "        iaa.Flipud(0.5),\n",
        "        iaa.Fliplr(0.5)\n",
        "        ]))\n",
        "    for i in range(len(augs)):\n",
        "        img_s.append(augs[i].augment_images(img))\n",
        "    return img_s"
      ],
      "execution_count": null,
      "outputs": []
    },
    {
      "cell_type": "markdown",
      "metadata": {
        "id": "bpEEdbULoOAa"
      },
      "source": [
        "Нормировка изображения по ширене и высоте (параметр - dsize)"
      ]
    },
    {
      "cell_type": "code",
      "metadata": {
        "id": "LWpote4lrJCj"
      },
      "source": [
        "def norm_img(path, dsize):\n",
        "    for label in range(3):\n",
        "        for root, dirs, files in os.walk(f\"{path}{label + 1}/\"):  \n",
        "            for filename in files:\n",
        "                img = cv2.imread(f'{path}{label + 1}/{filename}')\n",
        "                img = cv2.resize(img, dsize)\n",
        "                cv2.imwrite(f'{path}{label + 1}/{filename}', img) # Сохранение отнормированного оригинала\n",
        "                copies_img = aug_images(img) # Аугментация\n",
        "                for count in range(len(copies_img)): # Сохранение копий\n",
        "                    cv2.imwrite(f'{path}{label + 1}/{count}_{filename}', copies_img[count])"
      ],
      "execution_count": null,
      "outputs": []
    },
    {
      "cell_type": "code",
      "metadata": {
        "id": "f5iMoI6Bm8Sg",
        "colab": {
          "base_uri": "https://localhost:8080/"
        },
        "outputId": "1f54cdcb-d486-403d-f76f-79e65063c525"
      },
      "source": [
        "train_dir = 'ds TD/train/'\n",
        "valid_dir = 'ds TD/valid/'\n",
        "dsize = (400, 400)\n",
        "norm_img(valid_dir, dsize)\n",
        "norm_img(train_dir, dsize)"
      ],
      "execution_count": null,
      "outputs": [
        {
          "output_type": "stream",
          "text": [
            "/usr/local/lib/python3.7/dist-packages/imgaug/augmenters/meta.py:553: UserWarning: You provided a numpy array of shape (400, 400, 3) as input to augment_images(), which was interpreted as (N, H, W). The last dimension however has value 1 or 3, which indicates that you provided a single image with shape (H, W, C) instead. If that is the case, you should use augment_image(image) or augment_images([image]), otherwise you will not get the expected augmentations.\n",
            "  \"you will not get the expected augmentations.\" % (images_copy.shape,))\n"
          ],
          "name": "stderr"
        }
      ]
    },
    {
      "cell_type": "markdown",
      "metadata": {
        "id": "2YUKOh8jGZek"
      },
      "source": [
        "# **Dataset**"
      ]
    },
    {
      "cell_type": "markdown",
      "metadata": {
        "id": "XSo0r__fov1K"
      },
      "source": [
        "Создание датасетов для трайна и валидации"
      ]
    },
    {
      "cell_type": "code",
      "metadata": {
        "id": "c0oV2zdPDvWw",
        "colab": {
          "base_uri": "https://localhost:8080/"
        },
        "outputId": "2c4ec908-0c46-459f-b605-b649bb4d9a06"
      },
      "source": [
        "batch_size = 64\n",
        "\n",
        "train_ds = tf.keras.preprocessing.image_dataset_from_directory(\n",
        "  train_dir,\n",
        "  seed=1,\n",
        "  image_size=dsize,\n",
        "  batch_size=batch_size)\n",
        "\n",
        "val_ds = tf.keras.preprocessing.image_dataset_from_directory(\n",
        "  valid_dir,\n",
        "  seed=1,\n",
        "  image_size=dsize,\n",
        "  batch_size=batch_size)"
      ],
      "execution_count": null,
      "outputs": [
        {
          "output_type": "stream",
          "text": [
            "Found 158855 files belonging to 3 classes.\n",
            "Found 14965 files belonging to 3 classes.\n"
          ],
          "name": "stdout"
        }
      ]
    },
    {
      "cell_type": "markdown",
      "metadata": {
        "id": "XcwpSTxIpTxW"
      },
      "source": [
        "Масштабирование пикселей"
      ]
    },
    {
      "cell_type": "code",
      "metadata": {
        "id": "T6MVYj2-F2m_"
      },
      "source": [
        "normalization_layer = tf.keras.layers.experimental.preprocessing.Rescaling(1./255)\n",
        "train_ds = train_ds.map(lambda x, y: (normalization_layer(x), y))\n",
        "val_ds = val_ds.map(lambda x, y: (normalization_layer(x), y))"
      ],
      "execution_count": null,
      "outputs": []
    },
    {
      "cell_type": "markdown",
      "metadata": {
        "id": "1JJLuJe6neI-"
      },
      "source": [
        "# **Model**"
      ]
    },
    {
      "cell_type": "code",
      "metadata": {
        "id": "PNxW7I22F2qn"
      },
      "source": [
        "num_classes = 3\n",
        "\n",
        "model = tf.keras.Sequential([\n",
        "                                                    \n",
        "  tf.keras.layers.Conv2D(24, 3, activation='relu'),\n",
        "  tf.keras.layers.BatchNormalization(axis=-1),\n",
        "  tf.keras.layers.MaxPooling2D(),\n",
        "  tf.keras.layers.Dropout(0.1),\n",
        "\n",
        "  tf.keras.layers.Conv2D(24, 24, activation='relu'),\n",
        "  tf.keras.layers.BatchNormalization(axis=-1),\n",
        "  tf.keras.layers.MaxPooling2D(),\n",
        "  tf.keras.layers.Dropout(0.1),\n",
        "\n",
        "\n",
        "  tf.keras.layers.Conv2D(24, 24, activation='relu'),\n",
        "  tf.keras.layers.BatchNormalization(axis=-1),\n",
        "  tf.keras.layers.MaxPooling2D(),\n",
        "  tf.keras.layers.Dropout(0.1),\n",
        "\n",
        "  tf.keras.layers.Conv2D(24, 24, activation='relu'),\n",
        "  tf.keras.layers.BatchNormalization(axis=-1),\n",
        "  tf.keras.layers.MaxPooling2D(),\n",
        "  tf.keras.layers.Dropout(0.1),\n",
        "\n",
        "  tf.keras.layers.Flatten(),\n",
        "  tf.keras.layers.Dense(num_classes)\n",
        "])"
      ],
      "execution_count": null,
      "outputs": []
    },
    {
      "cell_type": "code",
      "metadata": {
        "id": "DXRj-tOHHUx3"
      },
      "source": [
        "model.compile(\n",
        "  optimizer='adam',\n",
        "  loss=tf.losses.SparseCategoricalCrossentropy(from_logits=True),\n",
        "  metrics=['accuracy'])"
      ],
      "execution_count": null,
      "outputs": []
    },
    {
      "cell_type": "markdown",
      "metadata": {
        "id": "dISlywWZpcMC"
      },
      "source": [
        "Обучение модели"
      ]
    },
    {
      "cell_type": "code",
      "metadata": {
        "id": "7ifQq97qHU0j",
        "colab": {
          "base_uri": "https://localhost:8080/"
        },
        "outputId": "a748cee2-8fa2-41a0-e4f4-83d1d08aa0af"
      },
      "source": [
        "history = model.fit(\n",
        "  train_ds,\n",
        "  validation_data=val_ds,\n",
        "  epochs=4\n",
        ")\n",
        "model.summary()"
      ],
      "execution_count": null,
      "outputs": [
        {
          "output_type": "stream",
          "text": [
            "Epoch 1/4\n",
            "2483/2483 [==============================] - 1678s 648ms/step - loss: 0.4761 - accuracy: 0.8128 - val_loss: 0.6605 - val_accuracy: 0.7681\n",
            "Epoch 2/4\n",
            "2483/2483 [==============================] - 1608s 646ms/step - loss: 0.2617 - accuracy: 0.9045 - val_loss: 0.5663 - val_accuracy: 0.8088\n",
            "Epoch 3/4\n",
            "2483/2483 [==============================] - 1615s 649ms/step - loss: 0.1856 - accuracy: 0.9327 - val_loss: 0.5724 - val_accuracy: 0.8244\n",
            "Epoch 4/4\n",
            "2483/2483 [==============================] - 1618s 651ms/step - loss: 0.1432 - accuracy: 0.9478 - val_loss: 0.5730 - val_accuracy: 0.8330\n",
            "Model: \"sequential\"\n",
            "_________________________________________________________________\n",
            "Layer (type)                 Output Shape              Param #   \n",
            "=================================================================\n",
            "conv2d (Conv2D)              (None, 398, 398, 24)      672       \n",
            "_________________________________________________________________\n",
            "batch_normalization (BatchNo (None, 398, 398, 24)      96        \n",
            "_________________________________________________________________\n",
            "max_pooling2d (MaxPooling2D) (None, 199, 199, 24)      0         \n",
            "_________________________________________________________________\n",
            "dropout (Dropout)            (None, 199, 199, 24)      0         \n",
            "_________________________________________________________________\n",
            "conv2d_1 (Conv2D)            (None, 176, 176, 24)      331800    \n",
            "_________________________________________________________________\n",
            "batch_normalization_1 (Batch (None, 176, 176, 24)      96        \n",
            "_________________________________________________________________\n",
            "max_pooling2d_1 (MaxPooling2 (None, 88, 88, 24)        0         \n",
            "_________________________________________________________________\n",
            "dropout_1 (Dropout)          (None, 88, 88, 24)        0         \n",
            "_________________________________________________________________\n",
            "conv2d_2 (Conv2D)            (None, 65, 65, 24)        331800    \n",
            "_________________________________________________________________\n",
            "batch_normalization_2 (Batch (None, 65, 65, 24)        96        \n",
            "_________________________________________________________________\n",
            "max_pooling2d_2 (MaxPooling2 (None, 32, 32, 24)        0         \n",
            "_________________________________________________________________\n",
            "dropout_2 (Dropout)          (None, 32, 32, 24)        0         \n",
            "_________________________________________________________________\n",
            "conv2d_3 (Conv2D)            (None, 9, 9, 24)          331800    \n",
            "_________________________________________________________________\n",
            "batch_normalization_3 (Batch (None, 9, 9, 24)          96        \n",
            "_________________________________________________________________\n",
            "max_pooling2d_3 (MaxPooling2 (None, 4, 4, 24)          0         \n",
            "_________________________________________________________________\n",
            "dropout_3 (Dropout)          (None, 4, 4, 24)          0         \n",
            "_________________________________________________________________\n",
            "flatten (Flatten)            (None, 384)               0         \n",
            "_________________________________________________________________\n",
            "dense (Dense)                (None, 3)                 1155      \n",
            "=================================================================\n",
            "Total params: 997,611\n",
            "Trainable params: 997,419\n",
            "Non-trainable params: 192\n",
            "_________________________________________________________________\n"
          ],
          "name": "stdout"
        }
      ]
    },
    {
      "cell_type": "markdown",
      "metadata": {
        "id": "5sYBCE9bunnE"
      },
      "source": [
        "Графики"
      ]
    },
    {
      "cell_type": "code",
      "metadata": {
        "id": "INsGO4XvtVrX",
        "colab": {
          "base_uri": "https://localhost:8080/",
          "height": 279
        },
        "outputId": "73b8c3ee-56ad-4101-f379-209d5a88390d"
      },
      "source": [
        "loss_train = history.history['loss']\n",
        "epochs = range(1, len(loss_train)+1)\n",
        "\n",
        "plt.plot(epochs, loss_train, label='Training Loss')\n",
        "plt.xlabel('Epochs')\n",
        "plt.ylabel('Loss')\n",
        "plt.legend()\n",
        "\n",
        "plt.show()"
      ],
      "execution_count": null,
      "outputs": [
        {
          "output_type": "display_data",
          "data": {
            "image/png": "[encoded data removed]",
            "text/plain": [
              "<Figure size 432x288 with 1 Axes>"
            ]
          },
          "metadata": {
            "tags": [],
            "needs_background": "light"
          }
        }
      ]
    },
    {
      "cell_type": "code",
      "metadata": {
        "id": "vQJWYwDQt9J_",
        "colab": {
          "base_uri": "https://localhost:8080/",
          "height": 279
        },
        "outputId": "1356e279-aef7-4e89-db0b-aa11a35fc18e"
      },
      "source": [
        "loss_valid = history.history['val_loss']\n",
        "epochs = range(1, len(loss_valid)+1)\n",
        "\n",
        "plt.plot(epochs, loss_valid, label='Valid Loss')\n",
        "plt.xlabel('Epochs')\n",
        "plt.ylabel('Loss')\n",
        "plt.legend()\n",
        "\n",
        "plt.show()"
      ],
      "execution_count": null,
      "outputs": [
        {
          "output_type": "display_data",
          "data": {
            "image/png": "[encoded data removed]",
            "text/plain": [
              "<Figure size 432x288 with 1 Axes>"
            ]
          },
          "metadata": {
            "tags": [],
            "needs_background": "light"
          }
        }
      ]
    },
    {
      "cell_type": "code",
      "metadata": {
        "id": "Vaf4Y1Mst9SF",
        "colab": {
          "base_uri": "https://localhost:8080/",
          "height": 279
        },
        "outputId": "85c7e3db-6df9-4cfd-c9d7-e58c12986a26"
      },
      "source": [
        "acc_train = history.history['accuracy']\n",
        "epochs = range(1, len(acc_train)+1)\n",
        "\n",
        "plt.plot(epochs, acc_train, label='Training Acc')\n",
        "plt.xlabel('Epochs')\n",
        "plt.ylabel('Acc')\n",
        "plt.legend()\n",
        "\n",
        "plt.show()"
      ],
      "execution_count": null,
      "outputs": [
        {
          "output_type": "display_data",
          "data": {
            "image/png": "[encoded data removed]",
            "text/plain": [
              "<Figure size 432x288 with 1 Axes>"
            ]
          },
          "metadata": {
            "tags": [],
            "needs_background": "light"
          }
        }
      ]
    },
    {
      "cell_type": "code",
      "metadata": {
        "id": "wybpkVdEt9Zl",
        "colab": {
          "base_uri": "https://localhost:8080/",
          "height": 279
        },
        "outputId": "414c2a36-1609-4797-9a1c-183a6462a0e1"
      },
      "source": [
        "acc_valid = history.history['val_accuracy']\n",
        "epochs = range(1, len(acc_valid)+1)\n",
        "\n",
        "plt.plot(epochs, acc_valid, label='Valid Acc')\n",
        "plt.xlabel('Epochs')\n",
        "plt.ylabel('Acc')\n",
        "plt.legend()\n",
        "\n",
        "plt.show()"
      ],
      "execution_count": null,
      "outputs": [
        {
          "output_type": "display_data",
          "data": {
            "image/png": "[encoded data removed]",
            "text/plain": [
              "<Figure size 432x288 with 1 Axes>"
            ]
          },
          "metadata": {
            "tags": [],
            "needs_background": "light"
          }
        }
      ]
    }
  ]
}